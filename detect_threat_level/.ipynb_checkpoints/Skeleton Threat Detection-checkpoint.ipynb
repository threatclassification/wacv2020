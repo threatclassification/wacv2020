{
 "cells": [
  {
   "cell_type": "markdown",
   "metadata": {},
   "source": [
    "# Skeleton Threat Detection"
   ]
  },
  {
   "cell_type": "code",
   "execution_count": 1,
   "metadata": {},
   "outputs": [],
   "source": [
    "import time\n",
    "import numpy as np\n",
    "import tensorflow as tf\n",
    "from os import listdir\n",
    "from os.path import isfile, join\n",
    "from sklearn.model_selection import train_test_split\n",
    "from sklearn.metrics import confusion_matrix\n",
    "\n",
    "# Notebook auto reloads code. (Ref: http://stackoverflow.com/questions/1907993/autoreload-of-modules-in-ipython)\n",
    "%load_ext autoreload\n",
    "%autoreload 2"
   ]
  },
  {
   "cell_type": "markdown",
   "metadata": {},
   "source": [
    "# Part 1: Load Data"
   ]
  },
  {
   "cell_type": "code",
   "execution_count": 2,
   "metadata": {},
   "outputs": [
    {
     "name": "stdout",
     "output_type": "stream",
     "text": [
      "(1549, 18)\n",
      "(1549,)\n",
      "[-1.14879715 -1.0680207  -0.50251734 -1.15777564  0.          0.\n",
      "  0.43987265  0.8980602  -1.73252392 -0.94244558 -1.82236588  0.10790823\n",
      " -1.80436289  0.52977294 -0.84384251  0.57481354 -1.58882546  0.55679184]\n"
     ]
    }
   ],
   "source": [
    "x = np.empty((1,9,2))\n",
    "rele_dexes = [1,2,3,4,5,6,7,9,12]\n",
    "right_elbow = 3\n",
    "right_wrist = 4\n",
    "folders = [\"High_ordered/keypoints/\", \"Medium_ordered/keypoints/\", \"Low_ordered/keypoints/\"]\n",
    "threats = [0,1,2]\n",
    "y = []\n",
    "last_count = 0\n",
    "for folder in range(len(folders)):\n",
    "    for f in listdir(folders[folder]):\n",
    "        skeletons = np.load(folders[folder]+f)\n",
    "        if skeletons.size != 1:\n",
    "            for skele in skeletons:\n",
    "                if skele[rele_dexes].all() > .0001:\n",
    "                    skele[:,0:2] -= skele[right_elbow,0:2]\n",
    "                    forearm_len = np.sqrt(skele[right_wrist][0]**2+skele[right_wrist][1]**2)\n",
    "                    skele[:,0:2] /= forearm_len\n",
    "                    x = np.vstack((x,np.expand_dims(skele[rele_dexes,0:2],axis=0)))\n",
    "    y = np.concatenate((y,[threats[folder]]*(x.shape[0]-last_count)))\n",
    "    last_count = x.shape[0]\n",
    "                    \n",
    "x = x.reshape([x.shape[0],x.shape[1]*x.shape[2]])\n",
    "\n",
    "        \n",
    "print(x.shape)\n",
    "print(y.shape)\n",
    "print(x[-1])"
   ]
  },
  {
   "cell_type": "code",
   "execution_count": 3,
   "metadata": {},
   "outputs": [
    {
     "name": "stdout",
     "output_type": "stream",
     "text": [
      "(1316, 18)\n",
      "(233, 18)\n",
      "1316\n",
      "233\n"
     ]
    }
   ],
   "source": [
    "train_x, test_x, train_y, test_y = train_test_split(x,y,test_size=.15)\n",
    "\n",
    "oh_train_y = np.array(train_y,dtype=np.int64)\n",
    "num_labels = len(np.unique(oh_train_y))\n",
    "oh_train_y = np.eye(num_labels)[oh_train_y]\n",
    "\n",
    "oh_test_y = np.array(test_y,dtype=np.int64)\n",
    "num_labels = len(np.unique(oh_test_y))\n",
    "oh_test_y = np.eye(num_labels)[oh_test_y]\n",
    "\n",
    "print(train_x.shape)\n",
    "print(test_x.shape)\n",
    "print(len(oh_train_y))\n",
    "print(len(oh_test_y))\n",
    "\n",
    "# columns: x, y, confidence\n",
    "# https://github.com/CMU-Perceptual-Computing-Lab/openpose/blob/master/doc/output.md"
   ]
  },
  {
   "cell_type": "markdown",
   "metadata": {},
   "source": [
    "# Create and Train Model"
   ]
  },
  {
   "cell_type": "code",
   "execution_count": 4,
   "metadata": {},
   "outputs": [],
   "source": [
    "from feedforward_model import *"
   ]
  },
  {
   "cell_type": "code",
   "execution_count": 5,
   "metadata": {},
   "outputs": [
    {
     "name": "stdout",
     "output_type": "stream",
     "text": [
      "WARNING:tensorflow:From /home/user1/threat_detection/detect_threat_level/feedforward_model.py:59: dense (from tensorflow.python.layers.core) is deprecated and will be removed in a future version.\n",
      "Instructions for updating:\n",
      "Use keras.layers.dense instead.\n",
      "WARNING:tensorflow:From /home/user1/anaconda3/lib/python3.7/site-packages/tensorflow/python/framework/op_def_library.py:263: colocate_with (from tensorflow.python.framework.ops) is deprecated and will be removed in a future version.\n",
      "Instructions for updating:\n",
      "Colocations handled automatically by placer.\n",
      "WARNING:tensorflow:From /home/user1/threat_detection/detect_threat_level/feedforward_model.py:61: dropout (from tensorflow.python.layers.core) is deprecated and will be removed in a future version.\n",
      "Instructions for updating:\n",
      "Use keras.layers.dropout instead.\n",
      "WARNING:tensorflow:From /home/user1/threat_detection/detect_threat_level/feedforward_model.py:81: softmax_cross_entropy_with_logits (from tensorflow.python.ops.nn_ops) is deprecated and will be removed in a future version.\n",
      "Instructions for updating:\n",
      "\n",
      "Future major versions of TensorFlow will allow gradients to flow\n",
      "into the labels input on backprop by default.\n",
      "\n",
      "See `tf.nn.softmax_cross_entropy_with_logits_v2`.\n",
      "\n"
     ]
    }
   ],
   "source": [
    "model = feedforward(x.shape[1],len(threats),hidden_layer_size=[8],learning_rate=.0025,train_keep_prob=[.5])"
   ]
  },
  {
   "cell_type": "code",
   "execution_count": 6,
   "metadata": {},
   "outputs": [
    {
     "name": "stdout",
     "output_type": "stream",
     "text": [
      "number of batches for training: 20\n",
      "epoch 1\n",
      "epoch 2\n",
      "Best validation accuracy! iteration:25 accuracy: 47.21030042918455%\n",
      "epoch 3\n",
      "epoch 4\n",
      "epoch 5\n",
      "epoch 6\n",
      "epoch 7\n",
      "epoch 8\n",
      "epoch 9\n",
      "epoch 10\n",
      "epoch 11\n",
      "epoch 12\n",
      "epoch 13\n",
      "epoch 14\n",
      "epoch 15\n",
      "epoch 16\n",
      "epoch 17\n",
      "epoch 18\n",
      "epoch 19\n",
      "epoch 20\n",
      "epoch 21\n",
      "epoch 22\n",
      "epoch 23\n",
      "epoch 24\n",
      "epoch 25\n",
      "epoch 26\n",
      "epoch 27\n",
      "epoch 28\n",
      "epoch 29\n",
      "epoch 30\n",
      "Traning ends. The best valid accuracy is 47.21030042918455. Model named basic_model.\n"
     ]
    }
   ],
   "source": [
    "model.train(train_x,oh_train_y,test_x,oh_test_y,epochs=30,batch_size=64)"
   ]
  },
  {
   "cell_type": "code",
   "execution_count": 7,
   "metadata": {},
   "outputs": [
    {
     "data": {
      "image/png": "[encoded data removed]",
      "text/plain": [
       "<Figure size 432x288 with 1 Axes>"
      ]
     },
     "metadata": {
      "needs_background": "light"
     },
     "output_type": "display_data"
    }
   ],
   "source": [
    "model.plot()"
   ]
  },
  {
   "cell_type": "code",
   "execution_count": 8,
   "metadata": {},
   "outputs": [
    {
     "name": "stdout",
     "output_type": "stream",
     "text": [
      "WARNING:tensorflow:From /home/user1/anaconda3/lib/python3.7/site-packages/tensorflow/python/training/saver.py:1266: checkpoint_exists (from tensorflow.python.training.checkpoint_management) is deprecated and will be removed in a future version.\n",
      "Instructions for updating:\n",
      "Use standard file APIs to check for files with this prefix.\n",
      "INFO:tensorflow:Restoring parameters from model/basic_model\n",
      "Predicted label is  high\n",
      "Actual label is  high\n"
     ]
    }
   ],
   "source": [
    "labels = np.array(['high','med','low'])\n",
    "test = np.reshape(test_x[0],(1,len(test_x[0])))\n",
    "prediction = model.predict(test)\n",
    "print(\"Predicted label is \", labels[prediction[0][0]])\n",
    "tested_y = np.ndarray.astype(oh_test_y[0],bool)\n",
    "print(\"Actual label is \",labels[tested_y][0])"
   ]
  },
  {
   "cell_type": "code",
   "execution_count": 9,
   "metadata": {},
   "outputs": [
    {
     "name": "stdout",
     "output_type": "stream",
     "text": [
      "INFO:tensorflow:Restoring parameters from model/basic_model\n",
      "[[110   0   0]\n",
      " [ 49   0   0]\n",
      " [ 74   0   0]]\n",
      "[[100.   0.   0.]\n",
      " [100.   0.   0.]\n",
      " [100.   0.   0.]]\n"
     ]
    }
   ],
   "source": [
    "predictions = model.predict(test_x)\n",
    "conf_mat = confusion_matrix(test_y,predictions[0])\n",
    "print(conf_mat)\n",
    "prob = np.empty(conf_mat.shape,dtype=np.float32)\n",
    "for i in range(conf_mat.shape[0]):\n",
    "    prob[i] = np.divide(conf_mat[i],sum(conf_mat[i]))\n",
    "    \n",
    "print(prob*100)"
   ]
  },
  {
   "cell_type": "code",
   "execution_count": 10,
   "metadata": {},
   "outputs": [
    {
     "name": "stdout",
     "output_type": "stream",
     "text": [
      "INFO:tensorflow:Restoring parameters from model/basic_model\n"
     ]
    },
    {
     "ename": "NameError",
     "evalue": "name 'self' is not defined",
     "output_type": "error",
     "traceback": [
      "\u001b[0;31m---------------------------------------------------------------------------\u001b[0m",
      "\u001b[0;31mNameError\u001b[0m                                 Traceback (most recent call last)",
      "\u001b[0;32m<ipython-input-10-75bfa897deec>\u001b[0m in \u001b[0;36m<module>\u001b[0;34m\u001b[0m\n\u001b[1;32m     12\u001b[0m     \u001b[0;31m#     chkp.print_tensors_in_checkpoint_file(tf.train.latest_checkpoint('model/'), tensor_name='', all_tensors=True)\u001b[0m\u001b[0;34m\u001b[0m\u001b[0;34m\u001b[0m\u001b[0;34m\u001b[0m\u001b[0m\n\u001b[1;32m     13\u001b[0m     \u001b[0;31m#     self.saver.restore(sess,tf.train.latest_checkpoint('model/'))\u001b[0m\u001b[0;34m\u001b[0m\u001b[0;34m\u001b[0m\u001b[0;34m\u001b[0m\u001b[0m\n\u001b[0;32m---> 14\u001b[0;31m     \u001b[0mpred\u001b[0m \u001b[0;34m=\u001b[0m \u001b[0msess\u001b[0m\u001b[0;34m.\u001b[0m\u001b[0mrun\u001b[0m\u001b[0;34m(\u001b[0m\u001b[0;34m[\u001b[0m\u001b[0mself\u001b[0m\u001b[0;34m.\u001b[0m\u001b[0mpred\u001b[0m\u001b[0;34m]\u001b[0m\u001b[0;34m,\u001b[0m\u001b[0mfeed_dict\u001b[0m\u001b[0;34m=\u001b[0m\u001b[0;34m{\u001b[0m\u001b[0mself\u001b[0m\u001b[0;34m.\u001b[0m\u001b[0minputs\u001b[0m\u001b[0;34m:\u001b[0m \u001b[0mx\u001b[0m\u001b[0;34m}\u001b[0m\u001b[0;34m)\u001b[0m\u001b[0;34m\u001b[0m\u001b[0;34m\u001b[0m\u001b[0m\n\u001b[0m",
      "\u001b[0;31mNameError\u001b[0m: name 'self' is not defined"
     ]
    }
   ],
   "source": [
    "session = tf.Session()\n",
    "with session as sess:\n",
    "    new_saver = tf.train.Saver()\n",
    "    new_saver.restore(sess, 'model/basic_model')\n",
    "    inputs = graph.get_tensor_by_name(\"input_ph:0\")\n",
    "    pred = graph.get_tensor_by_name(\"pred:0\")\n",
    "    # if pre_trained_model != None:\n",
    "    #     try:\n",
    "    #         print(\"Loading model from: {}\".format(pre_trained_model))\n",
    "    #         self.saver.restore(sess,'model/{}'.format(pre_trained_model))\n",
    "    #     except Exception:\n",
    "    #         raise ValueError(\"Failed Loading Model\")\n",
    "    # else:\n",
    "    #     chkp.print_tensors_in_checkpoint_file(tf.train.latest_checkpoint('model/'), tensor_name='', all_tensors=True)\n",
    "    #     self.saver.restore(sess,tf.train.latest_checkpoint('model/'))\n",
    "    pred = sess.run([pred],feed_dict={input_ph: x})"
   ]
  },
  {
   "cell_type": "code",
   "execution_count": null,
   "metadata": {},
   "outputs": [],
   "source": [
    "from detection_code import *"
   ]
  },
  {
   "cell_type": "code",
   "execution_count": null,
   "metadata": {},
   "outputs": [],
   "source": [
    "print(prediction(test,model_name=\"basic_model\"))"
   ]
  },
  {
   "cell_type": "code",
   "execution_count": null,
   "metadata": {},
   "outputs": [],
   "source": []
  }
 ],
 "metadata": {
  "kernelspec": {
   "display_name": "Python 3",
   "language": "python",
   "name": "python3"
  },
  "language_info": {
   "codemirror_mode": {
    "name": "ipython",
    "version": 3
   },
   "file_extension": ".py",
   "mimetype": "text/x-python",
   "name": "python",
   "nbconvert_exporter": "python",
   "pygments_lexer": "ipython3",
   "version": "3.7.1"
  }
 },
 "nbformat": 4,
 "nbformat_minor": 2
}
